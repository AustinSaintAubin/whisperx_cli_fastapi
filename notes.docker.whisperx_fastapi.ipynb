{
 "cells": [
  {
   "cell_type": "markdown",
   "metadata": {},
   "source": [
    "# Python FastAPI\n",
    "- https://fastapi.tiangolo.com/\n",
    "- https://github.com/tiangolo/fastapi\n",
    "- https://chatgpt.com/c/e73e12fe-bcf2-473e-acab-d708bf82cbda"
   ]
  },
  {
   "cell_type": "code",
   "execution_count": null,
   "metadata": {
    "vscode": {
     "languageId": "shellscript"
    }
   },
   "outputs": [],
   "source": [
    "## Setup Working Directory & Files\n",
    "\n",
    "# Working Dir\n",
    "# WORKING_DIRECTORY=\"/volume1/docker/_ai-llms/_test/whisperx_fastapi\"\n",
    "WORKING_DIRECTORY=\"/mnt/user/docker/_ai-llms/_test/whisperx_fastapi\"\n",
    "mkdir -p ${WORKING_DIRECTORY}\n",
    "cd ${WORKING_DIRECTORY}\n",
    "\n",
    "# Make Folders & Files\n",
    "# mkdir -p  ./{data,repositories}\n",
    "# touch ${WORKING_DIRECTORY}/resolv.conf\n",
    "ls -alt ${WORKING_DIRECTORY}\n",
    "\n",
    "# Create Needed Files\n",
    "# touch ${WORKING_DIRECTORY}/resolv.conf"
   ]
  },
  {
   "cell_type": "code",
   "execution_count": null,
   "metadata": {
    "vscode": {
     "languageId": "shellscript"
    }
   },
   "outputs": [],
   "source": []
  },
  {
   "cell_type": "code",
   "execution_count": null,
   "metadata": {
    "vscode": {
     "languageId": "shellscript"
    }
   },
   "outputs": [],
   "source": [
    "# Updates Docker-Compose / Docker Service\n",
    "# --------------------------------------------------------\n",
    "\n",
    "# Working Dir\n",
    "# WORKING_DIRECTORY=\"/volume1/docker/_ai-llms/_test/whisperx_fastapi\"\n",
    "WORKING_DIRECTORY=\"/mnt/user/docker/_ai-llms/_test/whisperx_fastapi\"\n",
    "cd ${WORKING_DIRECTORY}\n",
    "\n",
    "# # Update Repositories\n",
    "# cd ./repositories/\n",
    "# for dir in */ ; do\n",
    "#     echo -n -e \"${dir}:  \\t\"\n",
    "#     cd \"$dir\"\n",
    "#     # git clean -fd\n",
    "#     # git reset --hard\n",
    "#     git pull\n",
    "#     cd ..\n",
    "# done\n",
    "# cd ${WORKING_DIRECTORY}\n",
    "\n",
    "# Create Docker Service\n",
    "# docker-compose pull; DOCKER_BUILDKIT=1 docker-compose build; docker-compose down --volumes --remove-orphans; docker-compose up --detach --remove-orphans --force-recreate; docker-compose logs --follow\n",
    "\n",
    "# docker-compose up --detach --remove-orphans; docker-compose logs --follow\n",
    "docker-compose up --build\n",
    "\n",
    "# DOCKER_COMPOSE_PATH=docker-compose-vllm.yml\n",
    "# docker-compose --file \"${DOCKER_COMPOSE_PATH}\" pull; docker-compose --file \"${DOCKER_COMPOSE_PATH}\" build; docker-compose --file \"${DOCKER_COMPOSE_PATH}\" up --detach --remove-orphans --force-recreate; docker-compose --file \"${DOCKER_COMPOSE_PATH}\" logs --follow"
   ]
  },
  {
   "cell_type": "code",
   "execution_count": null,
   "metadata": {
    "vscode": {
     "languageId": "shellscript"
    }
   },
   "outputs": [],
   "source": [
    "INFO:api:Running command: whisperx /tmp/dialog2.mp3 --model base --output_dir /tmp/output --output_format txt --task transcribe --batch_size 6 --device cuda --device_index 0 --compute_type float32 --threads 4"
   ]
  },
  {
   "cell_type": "code",
   "execution_count": null,
   "metadata": {
    "vscode": {
     "languageId": "shellscript"
    }
   },
   "outputs": [],
   "source": [
    "INFO:api:Running command: whisperx /tmp/dialog2.mp3 --model base --output_dir /tmp/output --output_format vtt --task transcribe"
   ]
  }
 ],
 "metadata": {
  "language_info": {
   "name": "python"
  },
  "orig_nbformat": 4
 },
 "nbformat": 4,
 "nbformat_minor": 2
}
